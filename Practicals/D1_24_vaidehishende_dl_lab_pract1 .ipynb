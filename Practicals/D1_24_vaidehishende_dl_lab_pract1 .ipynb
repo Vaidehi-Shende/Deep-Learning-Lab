{
 "cells": [
  {
   "cell_type": "markdown",
   "id": "38dad1dc",
   "metadata": {},
   "source": [
    "VAIDEHI SHENDE\n",
    "D1-24\n",
    "PRACTICAL 1"
   ]
  },
  {
   "cell_type": "code",
   "execution_count": 1,
   "id": "1a2fac3b",
   "metadata": {},
   "outputs": [
    {
     "name": "stdout",
     "output_type": "stream",
     "text": [
      "     PassengerId  Survived  Pclass  \\\n",
      "0              1         0       3   \n",
      "1              2         1       1   \n",
      "2              3         1       3   \n",
      "3              4         1       1   \n",
      "4              5         0       3   \n",
      "..           ...       ...     ...   \n",
      "886          887         0       2   \n",
      "887          888         1       1   \n",
      "888          889         0       3   \n",
      "889          890         1       1   \n",
      "890          891         0       3   \n",
      "\n",
      "                                                  Name     Sex   Age  SibSp  \\\n",
      "0                              Braund, Mr. Owen Harris    male  22.0      1   \n",
      "1    Cumings, Mrs. John Bradley (Florence Briggs Th...  female  38.0      1   \n",
      "2                               Heikkinen, Miss. Laina  female  26.0      0   \n",
      "3         Futrelle, Mrs. Jacques Heath (Lily May Peel)  female  35.0      1   \n",
      "4                             Allen, Mr. William Henry    male  35.0      0   \n",
      "..                                                 ...     ...   ...    ...   \n",
      "886                              Montvila, Rev. Juozas    male  27.0      0   \n",
      "887                       Graham, Miss. Margaret Edith  female  19.0      0   \n",
      "888           Johnston, Miss. Catherine Helen \"Carrie\"  female   NaN      1   \n",
      "889                              Behr, Mr. Karl Howell    male  26.0      0   \n",
      "890                                Dooley, Mr. Patrick    male  32.0      0   \n",
      "\n",
      "     Parch            Ticket     Fare Cabin Embarked  \n",
      "0        0         A/5 21171   7.2500   NaN        S  \n",
      "1        0          PC 17599  71.2833   C85        C  \n",
      "2        0  STON/O2. 3101282   7.9250   NaN        S  \n",
      "3        0            113803  53.1000  C123        S  \n",
      "4        0            373450   8.0500   NaN        S  \n",
      "..     ...               ...      ...   ...      ...  \n",
      "886      0            211536  13.0000   NaN        S  \n",
      "887      0            112053  30.0000   B42        S  \n",
      "888      2        W./C. 6607  23.4500   NaN        S  \n",
      "889      0            111369  30.0000  C148        C  \n",
      "890      0            370376   7.7500   NaN        Q  \n",
      "\n",
      "[891 rows x 12 columns]\n"
     ]
    }
   ],
   "source": [
    "import pandas as pd\n",
    "import numpy as np\n",
    "df = pd.read_csv('titanic.csv')\n",
    "print(df)"
   ]
  },
  {
   "cell_type": "code",
   "execution_count": 2,
   "id": "05ae703b",
   "metadata": {},
   "outputs": [
    {
     "data": {
      "text/plain": [
       "(891, 12)"
      ]
     },
     "execution_count": 2,
     "metadata": {},
     "output_type": "execute_result"
    }
   ],
   "source": [
    "df.shape"
   ]
  },
  {
   "cell_type": "code",
   "execution_count": 3,
   "id": "382e3cc9",
   "metadata": {},
   "outputs": [
    {
     "data": {
      "text/plain": [
       "PassengerId      0\n",
       "Survived         0\n",
       "Pclass           0\n",
       "Name             0\n",
       "Sex              0\n",
       "Age            177\n",
       "SibSp            0\n",
       "Parch            0\n",
       "Ticket           0\n",
       "Fare             0\n",
       "Cabin          687\n",
       "Embarked         2\n",
       "dtype: int64"
      ]
     },
     "execution_count": 3,
     "metadata": {},
     "output_type": "execute_result"
    }
   ],
   "source": [
    "df.isnull().sum()"
   ]
  },
  {
   "cell_type": "code",
   "execution_count": 4,
   "id": "0e93b2fd",
   "metadata": {},
   "outputs": [],
   "source": [
    "df.dropna(subset=['Age'],inplace = True)"
   ]
  },
  {
   "cell_type": "code",
   "execution_count": 5,
   "id": "41b2fa6a",
   "metadata": {},
   "outputs": [],
   "source": [
    "df.drop(['PassengerId', 'Name', 'Ticket', 'Cabin','Embarked'], axis=1, inplace=True)"
   ]
  },
  {
   "cell_type": "code",
   "execution_count": 6,
   "id": "31284979",
   "metadata": {},
   "outputs": [
    {
     "data": {
      "text/plain": [
       "Survived    0\n",
       "Pclass      0\n",
       "Sex         0\n",
       "Age         0\n",
       "SibSp       0\n",
       "Parch       0\n",
       "Fare        0\n",
       "dtype: int64"
      ]
     },
     "execution_count": 6,
     "metadata": {},
     "output_type": "execute_result"
    }
   ],
   "source": [
    "df.isnull().sum()"
   ]
  },
  {
   "cell_type": "code",
   "execution_count": 7,
   "id": "af76a7e3",
   "metadata": {},
   "outputs": [],
   "source": [
    "df['Sex'] = df['Sex'].map({'male': 0 ,'female': 1})"
   ]
  },
  {
   "cell_type": "code",
   "execution_count": 8,
   "id": "10c18be0",
   "metadata": {},
   "outputs": [],
   "source": [
    "from sklearn.model_selection import train_test_split\n",
    "X= df.drop('Survived',axis=1)\n",
    "y= df['Survived']\n",
    "X_train,X_test,y_train,y_test = train_test_split(X,y,test_size =0.2,random_state = 42)"
   ]
  },
  {
   "cell_type": "code",
   "execution_count": 9,
   "id": "212e25fd",
   "metadata": {},
   "outputs": [],
   "source": [
    "from sklearn import linear_model\n",
    "from sklearn.metrics import accuracy_score\n",
    "perceptron_model = linear_model.Perceptron()"
   ]
  },
  {
   "cell_type": "code",
   "execution_count": 10,
   "id": "ea5aed89",
   "metadata": {},
   "outputs": [
    {
     "name": "stdout",
     "output_type": "stream",
     "text": [
      "0.6853146853146853\n"
     ]
    }
   ],
   "source": [
    "model = perceptron_model\n",
    "model.fit(X_train,y_train)\n",
    "y_predict = model.predict(X_test)\n",
    "\n",
    "print(accuracy_score(y_test,y_predict))"
   ]
  },
  {
   "cell_type": "code",
   "execution_count": 11,
   "id": "3d09d436",
   "metadata": {},
   "outputs": [],
   "source": [
    "# single layer perceptron \n",
    "x_inputs = [0.1,0.5,0.2]\n",
    "w_weight = [0.4,0.3,0.6]\n",
    "threshold = 0.5"
   ]
  },
  {
   "cell_type": "code",
   "execution_count": 12,
   "id": "c1ae7f32",
   "metadata": {},
   "outputs": [],
   "source": [
    "# activation function\n",
    "def step (weighted_sum):\n",
    "  if weighted_sum >= threshold:\n",
    "    return 1\n",
    "  else:\n",
    "    return 0 "
   ]
  },
  {
   "cell_type": "code",
   "execution_count": 13,
   "id": "d14f5d89",
   "metadata": {},
   "outputs": [],
   "source": [
    "def perceptron():\n",
    "  weighted_sum = 0\n",
    "  for x,w in zip(x_inputs,w_weight):\n",
    "    weighted_sum += x*w\n",
    "    print(weighted_sum)\n",
    "  return step(weighted_sum)"
   ]
  },
  {
   "cell_type": "code",
   "execution_count": 14,
   "id": "f91d4f7a",
   "metadata": {},
   "outputs": [
    {
     "name": "stdout",
     "output_type": "stream",
     "text": [
      "0.04000000000000001\n",
      "0.19\n",
      "0.31\n",
      "Output 0\n"
     ]
    }
   ],
   "source": [
    "output = perceptron()\n",
    "print(\"Output\",output)"
   ]
  },
  {
   "cell_type": "markdown",
   "id": "02a85844",
   "metadata": {},
   "source": [
    "Creation of logic gates"
   ]
  },
  {
   "cell_type": "code",
   "execution_count": 15,
   "id": "60cb1206",
   "metadata": {},
   "outputs": [
    {
     "name": "stdout",
     "output_type": "stream",
     "text": [
      "0 AND 0 =0\n",
      "0 AND 1 =0\n",
      "1 AND 0 =0\n",
      "1 AND 1 =1\n"
     ]
    }
   ],
   "source": [
    "def perceptron_and(input1,input2):\n",
    "    w1,w2 = 1,1\n",
    "    b= -1\n",
    "    threshold = w1*input1 + w2* input2 + b\n",
    "    if threshold > 0:\n",
    "        return 1\n",
    "    else:\n",
    "        return 0\n",
    "result1 = perceptron_and(0,0)\n",
    "result2 = perceptron_and(0,1) \n",
    "result3 = perceptron_and(1,0)\n",
    "result4 = perceptron_and(1,1)\n",
    "\n",
    "print(f\"0 AND 0 ={result1}\")\n",
    "print(f\"0 AND 1 ={result2}\")  \n",
    "print(f\"1 AND 0 ={result3}\")   \n",
    "print(f\"1 AND 1 ={result4}\")    \n"
   ]
  },
  {
   "cell_type": "code",
   "execution_count": 16,
   "id": "2717d277",
   "metadata": {},
   "outputs": [
    {
     "name": "stdout",
     "output_type": "stream",
     "text": [
      "0 nand 0 =1\n",
      "0 nand 1 =1\n",
      "1 nand 0 =1\n",
      "1 nand 1 =0\n"
     ]
    }
   ],
   "source": [
    "# nand\n",
    "def perceptron_nand(input1,input2):\n",
    "    w1,w2 = 1,1\n",
    "    b= 1\n",
    "    threshold = w1*input1 + w2* input2 + b\n",
    "    if threshold < 3:\n",
    "        return 1\n",
    "    else:\n",
    "        return 0\n",
    "result1 = perceptron_nand(0,0)\n",
    "result2 = perceptron_nand(0,1) \n",
    "result3 = perceptron_nand(1,0)\n",
    "result4 = perceptron_nand(1,1)\n",
    "# 1 1 1 0 \n",
    "# 1 2 2 3\n",
    "print(f\"0 nand 0 ={result1}\") \n",
    "print(f\"0 nand 1 ={result2}\")  \n",
    "print(f\"1 nand 0 ={result3}\")   \n",
    "print(f\"1 nand 1 ={result4}\")     "
   ]
  },
  {
   "cell_type": "code",
   "execution_count": 17,
   "id": "1608f1be",
   "metadata": {},
   "outputs": [
    {
     "name": "stdout",
     "output_type": "stream",
     "text": [
      "0 nor 0 =1\n",
      "0 nor 1 =0\n",
      "1 nor 0 =0\n",
      "1 nor 1 =0\n"
     ]
    }
   ],
   "source": [
    "# nor 1 0 0 0\n",
    "def perceptron_nor(input1,input2):\n",
    "    w1,w2 = 1,1\n",
    "    b= 1\n",
    "    threshold = w1*input1 + w2* input2 + b\n",
    "    if threshold <= 1:\n",
    "        return 1\n",
    "    else:\n",
    "        return 0\n",
    "result1 = perceptron_nor(0,0)\n",
    "result2 = perceptron_nor(0,1) \n",
    "result3 = perceptron_nor(1,0)\n",
    "result4 = perceptron_nor(1,1)\n",
    "# 1 2 2 3\n",
    "print(f\"0 nor 0 ={result1}\") \n",
    "print(f\"0 nor 1 ={result2}\")  \n",
    "print(f\"1 nor 0 ={result3}\")   \n",
    "print(f\"1 nor 1 ={result4}\")     "
   ]
  },
  {
   "cell_type": "code",
   "execution_count": 19,
   "id": "b8bb0a6d",
   "metadata": {},
   "outputs": [
    {
     "name": "stdout",
     "output_type": "stream",
     "text": [
      "0 NOT =1\n",
      "1 NOT =0\n"
     ]
    }
   ],
   "source": [
    "# NOt gate\n",
    "def perceptron_not(input1):\n",
    "    w1 = 1\n",
    "    b= 1\n",
    "    threshold = w1*input1 + b\n",
    "    if threshold <= 1:\n",
    "        return 1\n",
    "    else:\n",
    "        return 0\n",
    "result1 = perceptron_not(0)\n",
    "result2 = perceptron_not(1) \n",
    "\n",
    "# 1 2\n",
    "print(f\"0 NOT ={result1}\") \n",
    "print(f\"1 NOT ={result2}\")  \n",
    "    "
   ]
  },
  {
   "cell_type": "code",
   "execution_count": 20,
   "id": "09c654bc",
   "metadata": {},
   "outputs": [
    {
     "name": "stdout",
     "output_type": "stream",
     "text": [
      "0 OR 0 = 0\n",
      "0 OR 1 = 1\n",
      "1 OR 0 = 1\n",
      "1 OR 1 = 1\n"
     ]
    }
   ],
   "source": [
    "# OR gate\n",
    "def perceptron_or(input1,input2):\n",
    "    weights = np.array([1,1])\n",
    "    bias = -0.5\n",
    "    weighted_sum = np.dot(weights,np.array([input1,input2])) + bias\n",
    "    if weighted_sum >= 0:\n",
    "        return 1\n",
    "    else:\n",
    "        return 0\n",
    "result1 = perceptron_or(0,0)\n",
    "result2 = perceptron_or(0,1)\n",
    "result3 = perceptron_or(1,0)\n",
    "result4 = perceptron_or(1,1)\n",
    "\n",
    "print(f\"0 OR 0 = {result1}\")\n",
    "print(f\"0 OR 1 = {result2}\")\n",
    "print(f\"1 OR 0 = {result3}\")\n",
    "print(f\"1 OR 1 = {result4}\")"
   ]
  },
  {
   "cell_type": "code",
   "execution_count": 21,
   "id": "9610741d",
   "metadata": {},
   "outputs": [
    {
     "name": "stdout",
     "output_type": "stream",
     "text": [
      "0 and 0 =1\n",
      "0 and 1 =1\n",
      "1 and 0 =1\n",
      "1 and 1 =1\n",
      "0 and 0 =1\n",
      "0 and 1 =1\n",
      "1 and 0 =1\n",
      "1 and 1 =1\n"
     ]
    }
   ],
   "source": [
    "def perceptron_points(input1,input2,input3):\n",
    "    \n",
    "    w1,w2,w3 = 0,0,0\n",
    "    b= 0\n",
    "    threshold = w1*input1 + w2*input2 + w3*input3 + b\n",
    "    if threshold <= 1:\n",
    "        return 1\n",
    "    else:\n",
    "        return 0\n",
    "result1 = perceptron_points(-1,-1,-1)\n",
    "result2 = perceptron_points(-1,-1,1) \n",
    "result3 = perceptron_points(-1,1,-1)\n",
    "result4 = perceptron_points(-1,1,1)\n",
    "result5 = perceptron_points(1,-1,-1)\n",
    "result6= perceptron_points(1,-1,1) \n",
    "result7= perceptron_points(1,1,-1)\n",
    "result8= perceptron_points(1,1,1)\n",
    "\n",
    "print(f\"0 and 0 ={result1}\") \n",
    "print(f\"0 and 1 ={result2}\")  \n",
    "print(f\"1 and 0 ={result3}\")   \n",
    "print(f\"1 and 1 ={result4}\")     \n",
    "print(f\"0 and 0 ={result1}\") \n",
    "print(f\"0 and 1 ={result2}\")  \n",
    "print(f\"1 and 0 ={result3}\")   \n",
    "print(f\"1 and 1 ={result4}\") \n"
   ]
  },
  {
   "cell_type": "code",
   "execution_count": 22,
   "id": "afb5c951",
   "metadata": {},
   "outputs": [],
   "source": [
    "import numpy as np\n",
    "data_points = {\n",
    "    'P0' :np.array([-1,-1,-1]),\n",
    "    'P1' :np.array([-1,-1,1]),\n",
    "    'P2' :np.array([-1,1,-1]),\n",
    "    'P3' :np.array([-1,1,1]),\n",
    "    'P4' :np.array([1,-1,-1]),\n",
    "    'P5' :np.array([1,-1,1]),\n",
    "    'P6' :np.array([1,1,-1]),\n",
    "    'P7' :np.array([1,1,1]),\n",
    "}\n"
   ]
  },
  {
   "cell_type": "code",
   "execution_count": 23,
   "id": "5e630c2a",
   "metadata": {},
   "outputs": [],
   "source": [
    "C1 = ['P7']\n",
    "C2 = ['P0','P1','P2','P3','P4','P5','P6']"
   ]
  },
  {
   "cell_type": "code",
   "execution_count": 24,
   "id": "4a78fa06",
   "metadata": {},
   "outputs": [
    {
     "name": "stdout",
     "output_type": "stream",
     "text": [
      "[0. 0. 0.]\n"
     ]
    }
   ],
   "source": [
    "weights = np.zeros(len(data_points['P0']))\n",
    "bias = 0\n",
    "print(weights)"
   ]
  },
  {
   "cell_type": "code",
   "execution_count": 25,
   "id": "71e782ea",
   "metadata": {},
   "outputs": [],
   "source": [
    "learning_rate = 1"
   ]
  },
  {
   "cell_type": "code",
   "execution_count": 26,
   "id": "4cd9bc06",
   "metadata": {},
   "outputs": [],
   "source": [
    "epochs = 100"
   ]
  },
  {
   "cell_type": "code",
   "execution_count": 27,
   "id": "0ed8b00f",
   "metadata": {},
   "outputs": [],
   "source": [
    "# perceptron learning algorithm\n",
    "for epoch in range (epochs):\n",
    "    for point in C2:\n",
    "        x = data_points[point]\n",
    "        y = 1 #C2 is the positive class\n",
    "        prediction = np.dot(weights,x) + bias\n",
    "        #Upadte weights and bias based on the prediction\n",
    "        if prediction <= 0:\n",
    "            weights += learning_rate * x\n",
    "            bias += learning_rate"
   ]
  },
  {
   "cell_type": "code",
   "execution_count": 28,
   "id": "7dd07233",
   "metadata": {},
   "outputs": [
    {
     "data": {
      "text/plain": [
       "array([-1., -1., -1.])"
      ]
     },
     "execution_count": 28,
     "metadata": {},
     "output_type": "execute_result"
    }
   ],
   "source": [
    "weights"
   ]
  },
  {
   "cell_type": "code",
   "execution_count": 29,
   "id": "d8fbce49",
   "metadata": {},
   "outputs": [
    {
     "data": {
      "text/plain": [
       "3"
      ]
     },
     "execution_count": 29,
     "metadata": {},
     "output_type": "execute_result"
    }
   ],
   "source": [
    "bias"
   ]
  },
  {
   "cell_type": "code",
   "execution_count": 30,
   "id": "620b23e7",
   "metadata": {},
   "outputs": [
    {
     "name": "stdout",
     "output_type": "stream",
     "text": [
      "Number of linearly separable problems: 7\n"
     ]
    }
   ],
   "source": [
    "data = np.array([\n",
    "    [-1, -1, -1],\n",
    "    [-1, -1, 1],\n",
    "    [-1, 1, -1],\n",
    "    [-1, 1, 1],\n",
    "    [1, -1, -1],\n",
    "    [1, -1, 1],\n",
    "    [1, 1, -1],\n",
    "    [1, 1, 1],\n",
    "])\n",
    "labels = np.array([-1, -1, -1, -1, 1, 1, 1, 1])\n",
    "def is_linearly_separable(data, labels):\n",
    "  data_with_bias = np.hstack((data, np.ones((data.shape[0], 1))))\n",
    "\n",
    "  # Try to find a separating hyperplane using SVM\n",
    "  from sklearn.svm import SVC\n",
    "  clf = SVC(kernel='linear')\n",
    "  clf.fit(data_with_bias, labels)\n",
    "\n",
    "  # Check if the decision function has a margin of at least 1\n",
    "  decision_function = clf.decision_function(data_with_bias)\n",
    "  margin = np.min(np.abs(decision_function))\n",
    "\n",
    "  return margin >= 1\n",
    "\n",
    "# Count the number of linearly separable problems\n",
    "num_separable = 0\n",
    "for i in range(len(data)):\n",
    "  subdata = np.delete(data, i, axis=0)\n",
    "  sublabels = np.delete(labels, i, axis=0)\n",
    "  if is_linearly_separable(subdata, sublabels):\n",
    "    num_separable += 1\n",
    "\n",
    "print(\"Number of linearly separable problems:\", num_separable)\n"
   ]
  },
  {
   "cell_type": "code",
   "execution_count": null,
   "id": "327de4a7",
   "metadata": {},
   "outputs": [],
   "source": []
  }
 ],
 "metadata": {
  "kernelspec": {
   "display_name": "Python 3 (ipykernel)",
   "language": "python",
   "name": "python3"
  },
  "language_info": {
   "codemirror_mode": {
    "name": "ipython",
    "version": 3
   },
   "file_extension": ".py",
   "mimetype": "text/x-python",
   "name": "python",
   "nbconvert_exporter": "python",
   "pygments_lexer": "ipython3",
   "version": "3.10.9"
  }
 },
 "nbformat": 4,
 "nbformat_minor": 5
}
